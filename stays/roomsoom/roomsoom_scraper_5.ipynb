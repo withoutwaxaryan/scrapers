{
 "cells": [
  {
   "cell_type": "code",
   "execution_count": 1,
   "metadata": {},
   "outputs": [],
   "source": [
    "from bs4 import BeautifulSoup\n",
    "import requests\n",
    "import pandas as pd\n",
    "from selenium import webdriver\n",
    "from selenium.webdriver.common.keys import Keys\n",
    "import time\n",
    "import os"
   ]
  },
  {
   "cell_type": "code",
   "execution_count": null,
   "metadata": {},
   "outputs": [],
   "source": [
    "os.mkdir('roomsoom')\n",
    "os.mkdir('roomsoom/pg')\n",
    "os.mkdir('roomsoom/room')"
   ]
  },
  {
   "cell_type": "code",
   "execution_count": 2,
   "metadata": {},
   "outputs": [],
   "source": [
    "# Capturing all information in a list made of dictionary items\n",
    "information = []"
   ]
  },
  {
   "cell_type": "markdown",
   "metadata": {},
   "source": [
    "Cities available for PG/Coliving : Noida Delhi Gurgaon Bangalore Indore Pune Chennai Mumbai Hyderabad Ahmedabad\n",
    "\n",
    "Cities available for BHK/Rooms : Noida Ghaziabad Gurgaon Delhi Bangalore Chennai Mumbai Indore Nagpur\n",
    "\n",
    "BHK/ROoms : https://www.roomsoom.com/flat/property-listing?lat=&lang=&city=Noida&type=flat\n",
    "\n",
    "PG/Coliving : https://www.roomsoom.com/pg/property-listing?lat=&lang=&city=Noida&type=pg"
   ]
  },
  {
   "cell_type": "code",
   "execution_count": null,
   "metadata": {},
   "outputs": [],
   "source": [
    "# pg/co-living\n",
    "city_pg = [('Noida', 193), ('Delhi', 62), ('Gurgaon', 25), ('Bangalore', 45), ('Indore', 8),\n",
    "           ('Pune', 16), ('Chennai', 9), ('Mumbai', 6), ('Hyderabad', 5), ('Ahmedabad', 3)]\n",
    "\n",
    "# bhk/rooms, \n",
    "city_room = [('Noida', 3), ('Ghaziabad', 0), ('Gurgaon', 1), ('Delhi', 4), ('Bangalore', 53),\n",
    "             ('Chennai', 0), ('Mumbai', 0), ('Indore', 0), ('Nagpur', 0)]"
   ]
  },
  {
   "cell_type": "code",
   "execution_count": null,
   "metadata": {},
   "outputs": [],
   "source": [
    "def pg_pages_source(url, scroll_number, city):\n",
    "    browser = webdriver.Chrome(\"/usr/bin/chromedriver\")\n",
    "    browser.get(url)\n",
    "    browser.maximize_window()\n",
    "    \n",
    "    # Dynamic scrape maybe?\n",
    "    # previous_height = browser.execute_script('return document.body.scrollHeight')\n",
    "\n",
    "    # while True:\n",
    "    #     browser.execute_script(\"window.scrollTo(0,document.body.scrollHeight)\")\n",
    "    #     time.sleep(3)\n",
    "    #     new_height = browser.execute_script('return document.body.scrollHeight')\n",
    "    #     if new_height == previous_height:\n",
    "    #         break\n",
    "    #     previous_height = new_height\n",
    "\n",
    "    ScrollNumber = scroll_number\n",
    "    for i in range(1,ScrollNumber):\n",
    "        browser.execute_script(\"window.scrollTo(0,document.body.scrollHeight)\")\n",
    "        time.sleep(8)\n",
    "\n",
    "    file = open('roomsoom/pg/' + city + \".html\", 'w')\n",
    "    file.write(browser.page_source)\n",
    "    file.close()\n",
    "    print(city + \"done\")\n",
    "    browser.close()"
   ]
  },
  {
   "cell_type": "code",
   "execution_count": null,
   "metadata": {},
   "outputs": [],
   "source": [
    "def room_pages_source(url, scroll_number, city):\n",
    "    browser = webdriver.Chrome(\"/usr/bin/chromedriver\")\n",
    "    browser.get(url)\n",
    "    browser.maximize_window()\n",
    "    \n",
    "    # Dynamic scrape maybe?\n",
    "    # previous_height = browser.execute_script('return document.body.scrollHeight')\n",
    "\n",
    "    # while True:\n",
    "    #     browser.execute_script(\"window.scrollTo(0,document.body.scrollHeight)\")\n",
    "    #     time.sleep(3)\n",
    "    #     new_height = browser.execute_script('return document.body.scrollHeight')\n",
    "    #     if new_height == previous_height:\n",
    "    #         break\n",
    "    #     previous_height = new_height\n",
    "\n",
    "    ScrollNumber = scroll_number\n",
    "    for i in range(1,ScrollNumber):\n",
    "        browser.execute_script(\"window.scrollTo(0,document.body.scrollHeight)\")\n",
    "        time.sleep(10)\n",
    "\n",
    "    file = open('roomsoom/room/' + city + \".html\", 'w')\n",
    "    file.write(browser.page_source)\n",
    "    file.close()\n",
    "    print(city + \"done\")\n",
    "    browser.close()"
   ]
  },
  {
   "cell_type": "code",
   "execution_count": null,
   "metadata": {},
   "outputs": [],
   "source": [
    "for city, items in city_pg:\n",
    "    url = \"https://www.roomsoom.com/pg/property-listing?lat=&lang=&city=\" + city + \"&type=pg\"\n",
    "    scroll_number = int(items/3) + int((items%4)) + 5\n",
    "#     print(url, scroll_number, city)\n",
    "    pg_pages_source(url, scroll_number, city)"
   ]
  },
  {
   "cell_type": "code",
   "execution_count": null,
   "metadata": {},
   "outputs": [],
   "source": [
    "for city, items in city_room:\n",
    "    url = \"https://www.roomsoom.com/flat/property-listing?lat=&lang=&city=\" + city + \"&type=flat\"\n",
    "    scroll_number = int(items/3) + int((items%4)) + 5\n",
    "#     print(url, scroll_number, city)\n",
    "    room_pages_source(url, scroll_number, city)"
   ]
  },
  {
   "cell_type": "markdown",
   "metadata": {},
   "source": [
    "Headings for the Excel sheet (PG/CoLiving): \n",
    "\n",
    "Name : xyz\n",
    "Property Type: Rent/PG\n",
    "Preferred Gender: \n",
    "Image_front:\n",
    "All_Images: \n",
    "Rent:\n",
    "Security Deposit:\n",
    "Total Beds in PG: \n",
    "Description:\n",
    "Sharing: (Put description)\n",
    "Amenities:\n",
    "full_details:\n",
    "\n"
   ]
  },
  {
   "cell_type": "code",
   "execution_count": 3,
   "metadata": {},
   "outputs": [],
   "source": [
    "def pg_scraper(city):\n",
    "    data = open('pg/' + city,'r')\n",
    "    soup = BeautifulSoup(data, 'lxml')\n",
    "    rooms = soup.find_all('div', class_ = \"property_data\")\n",
    "    for room in rooms:\n",
    "        image_link = room.img['src']\n",
    "        people_allowed = room.find('div', class_ = \"rent_for1\").text\n",
    "        name = room.find('div', class_ = \"property_title\").h3.text\n",
    "        primitive_location = room.find('div', class_ = \"property_title\").p.text\n",
    "        money_info = room.find_all('span', attrs={\"class\" : \"pro_price\"})\n",
    "        rent_per_month = money_info[0].text\n",
    "        security_deposit = money_info[1].text\n",
    "        more_details_link = room.find('div', class_ = \"col-md-2 col-xs-12\").a['href']\n",
    "        link = requests.get(more_details_link).text\n",
    "        soup2 = BeautifulSoup(link, 'lxml')\n",
    "        images1 = soup2.find('ul', class_ = \"slides\")\n",
    "        images = []\n",
    "        if images1:\n",
    "            for image in images1.find_all('img'):\n",
    "                images.append(image.get('src'))\n",
    "        location1 = soup2.find('ul', class_ = \"bed_details_list\")\n",
    "        if location1:\n",
    "            location = location1.li.text.split('|')[0]\n",
    "        else:\n",
    "            location = \" \"\n",
    "        number_of_beds = soup2.find('ul', class_ = \"bed_details_list\").li.text.split('|')[-1]\n",
    "        description = []\n",
    "        description1 = soup2.find('div', class_=\"col-md-4 border-right col-xs-6\").ul\n",
    "        description2 = soup2.find('div', class_=\"col-md-4 col-xs-6\").ul\n",
    "        result = \"\\n\".join([\" \".join(elem) for elem in zip(description1.text.split(\"\\n\"), description2.text.split(\"\\n\"))])\n",
    "        result = result.replace('\\n', '\\n')\n",
    "        result = ','.join(result.splitlines())\n",
    "        result = result[2:-2]\n",
    "        description.append(result)\n",
    "        amenities = soup2.find('div', attrs={\"id\" : \"home_amenities\"})\n",
    "        amenities2 = amenities.find('div', class_ = \"tab-content\").text.replace('\\n\\n\\n', '\\n')\n",
    "        amen = []\n",
    "        amen = [y for y in (x.strip() for x in amenities2.splitlines()) if y]\n",
    "        details = soup2.find('div', class_=\"rent_data\").text.replace('\\n', '')\n",
    "        room_item = {\n",
    "            \"living_type\": \"pg/co-living\",\n",
    "            \"city\": city,\n",
    "            \"name\": name,\n",
    "            \"link\": more_details_link,\n",
    "            \"image_front\": image_link,\n",
    "            \"preferred_gender\": people_allowed,\n",
    "            \"primitive_location\": primitive_location,\n",
    "            \"location\": location,\n",
    "            \"rent_per_month\": rent_per_month,\n",
    "            \"security_deposit\": security_deposit,\n",
    "            \"total_beds_in_pg\": number_of_beds,\n",
    "            \"images_links\": images,\n",
    "            \"description\": description,\n",
    "            \"amenities\": amen,\n",
    "            \"details\": details,\n",
    "        }\n",
    "        information.append(room_item)\n",
    "    print(city + \" done\")\n",
    "    data.close()"
   ]
  },
  {
   "cell_type": "code",
   "execution_count": 4,
   "metadata": {},
   "outputs": [],
   "source": [
    "def room_scraper(city):\n",
    "    data = open('room/' + city,'r')\n",
    "    soup = BeautifulSoup(data, 'lxml')\n",
    "    rooms = soup.find_all('div', class_ = \"property_data\")\n",
    "    for room in rooms:\n",
    "        image_link = room.img['src']\n",
    "        people_allowed = room.find('div', class_ = \"rent_for1\").text\n",
    "        bhk = room.find('div', class_ = \"property_title\").h3.text\n",
    "        primitive_location = room.find('div', class_ = \"property_title\").p.text\n",
    "        money_info = room.find_all('span', attrs={\"class\" : \"pro_price\"})\n",
    "        rent_per_month = money_info[0].text\n",
    "        security_deposit = money_info[1].text\n",
    "        more_details_link = room.find('div', class_ = \"col-md-2 col-xs-12\").a['href']\n",
    "        link = requests.get(more_details_link).text\n",
    "        soup2 = BeautifulSoup(link, 'lxml')\n",
    "        images1 = soup2.find('ul', class_ = \"slides\")\n",
    "        images = []\n",
    "        if images1:\n",
    "            for image in images1.find_all('img'):\n",
    "                images.append(image.get('src'))\n",
    "        location1 = soup2.find('ul', class_ = \"bed_details_list\")\n",
    "        if location1:\n",
    "            location = location1.li.text.split('|')[0]\n",
    "        else:\n",
    "            location = \" \"\n",
    "        description0 = soup2.find('div', class_=\"col-md-6 col-sm-12 col-xs-12 border-right\")\n",
    "        if description0:\n",
    "            description1 = description0.ul\n",
    "            description = []\n",
    "            for desc in description1.find_all('li'):\n",
    "                description.append(desc.text)\n",
    "        descriptionL = soup2.find('div', class_=\"col-md-6 col-sm-12 col-xs-12\")\n",
    "        if descriptionL:    \n",
    "            description2 = descriptionL.ul\n",
    "            for desc in description2.find_all('li'):\n",
    "                description.append(desc.text)\n",
    "        else:\n",
    "            description = \" \"\n",
    "        amenities = soup2.find('div', attrs={\"id\" : \"home_amenities\"})\n",
    "        if amenities:\n",
    "            amenities2 = amenities.find('div', class_ = \"tab-content\").text.replace('\\n\\n\\n', '\\n')\n",
    "            amen = []\n",
    "            amen = [y for y in (x.strip() for x in amenities2.splitlines()) if y]\n",
    "        else: \n",
    "            amen = \"\"\n",
    "        details0 = soup2.find('div', class_=\"rent_data\")\n",
    "        if details0:\n",
    "            details = details0.text.replace('\\n', '')\n",
    "        else:\n",
    "            details = \"\"\n",
    "        room_item = {\n",
    "            \"living_type\": \"bhk/rooms\",\n",
    "            \"city\": city,\n",
    "            \"name\": bhk,\n",
    "            \"link\": more_details_link,\n",
    "            \"image_front\": image_link,\n",
    "            \"preferred_gender\": people_allowed,\n",
    "            \"primitive_location\": primitive_location,\n",
    "            \"location\": location,\n",
    "            \"rent_per_month\": rent_per_month,\n",
    "            \"security_deposit\": security_deposit,\n",
    "            \"images_links\": images,\n",
    "            \"description\": description,\n",
    "            \"amenities\": amen,\n",
    "            \"details\": details,\n",
    "        }\n",
    "        information.append(room_item)\n",
    "    print(city + \" done\")\n",
    "    data.close()"
   ]
  },
  {
   "cell_type": "code",
   "execution_count": 5,
   "metadata": {
    "scrolled": true
   },
   "outputs": [
    {
     "name": "stdout",
     "output_type": "stream",
     "text": [
      "Ahmedabad.html done\n",
      "Bangalore.html done\n",
      "Chennai.html done\n",
      "Delhi.html done\n",
      "Gurgaon.html done\n",
      "Hyderabad.html done\n",
      "Indore.html done\n",
      "Mumbai.html done\n"
     ]
    },
    {
     "ename": "AttributeError",
     "evalue": "'NoneType' object has no attribute 'li'",
     "output_type": "error",
     "traceback": [
      "\u001b[0;31m---------------------------------------------------------------------------\u001b[0m",
      "\u001b[0;31mAttributeError\u001b[0m                            Traceback (most recent call last)",
      "\u001b[0;32m<ipython-input-5-d2bb485da31b>\u001b[0m in \u001b[0;36m<module>\u001b[0;34m\u001b[0m\n\u001b[1;32m      3\u001b[0m \u001b[0;32mfor\u001b[0m \u001b[0mcity\u001b[0m \u001b[0;32min\u001b[0m \u001b[0msorted\u001b[0m\u001b[0;34m(\u001b[0m\u001b[0mos\u001b[0m\u001b[0;34m.\u001b[0m\u001b[0mlistdir\u001b[0m\u001b[0;34m(\u001b[0m\u001b[0;34m'pg/'\u001b[0m\u001b[0;34m)\u001b[0m\u001b[0;34m)\u001b[0m\u001b[0;34m:\u001b[0m\u001b[0;34m\u001b[0m\u001b[0;34m\u001b[0m\u001b[0m\n\u001b[1;32m      4\u001b[0m \u001b[0;31m#     print(city)\u001b[0m\u001b[0;34m\u001b[0m\u001b[0;34m\u001b[0m\u001b[0;34m\u001b[0m\u001b[0m\n\u001b[0;32m----> 5\u001b[0;31m     \u001b[0mpg_scraper\u001b[0m\u001b[0;34m(\u001b[0m\u001b[0mcity\u001b[0m\u001b[0;34m)\u001b[0m\u001b[0;34m\u001b[0m\u001b[0;34m\u001b[0m\u001b[0m\n\u001b[0m\u001b[1;32m      6\u001b[0m \u001b[0;31m#     file.close()\u001b[0m\u001b[0;34m\u001b[0m\u001b[0;34m\u001b[0m\u001b[0;34m\u001b[0m\u001b[0m\n",
      "\u001b[0;32m<ipython-input-3-9492bc77382b>\u001b[0m in \u001b[0;36mpg_scraper\u001b[0;34m(city)\u001b[0m\n\u001b[1;32m     24\u001b[0m         \u001b[0;32melse\u001b[0m\u001b[0;34m:\u001b[0m\u001b[0;34m\u001b[0m\u001b[0;34m\u001b[0m\u001b[0m\n\u001b[1;32m     25\u001b[0m             \u001b[0mlocation\u001b[0m \u001b[0;34m=\u001b[0m \u001b[0;34m\" \"\u001b[0m\u001b[0;34m\u001b[0m\u001b[0;34m\u001b[0m\u001b[0m\n\u001b[0;32m---> 26\u001b[0;31m         \u001b[0mnumber_of_beds\u001b[0m \u001b[0;34m=\u001b[0m \u001b[0msoup2\u001b[0m\u001b[0;34m.\u001b[0m\u001b[0mfind\u001b[0m\u001b[0;34m(\u001b[0m\u001b[0;34m'ul'\u001b[0m\u001b[0;34m,\u001b[0m \u001b[0mclass_\u001b[0m \u001b[0;34m=\u001b[0m \u001b[0;34m\"bed_details_list\"\u001b[0m\u001b[0;34m)\u001b[0m\u001b[0;34m.\u001b[0m\u001b[0mli\u001b[0m\u001b[0;34m.\u001b[0m\u001b[0mtext\u001b[0m\u001b[0;34m.\u001b[0m\u001b[0msplit\u001b[0m\u001b[0;34m(\u001b[0m\u001b[0;34m'|'\u001b[0m\u001b[0;34m)\u001b[0m\u001b[0;34m[\u001b[0m\u001b[0;34m-\u001b[0m\u001b[0;36m1\u001b[0m\u001b[0;34m]\u001b[0m\u001b[0;34m\u001b[0m\u001b[0;34m\u001b[0m\u001b[0m\n\u001b[0m\u001b[1;32m     27\u001b[0m         \u001b[0mdescription\u001b[0m \u001b[0;34m=\u001b[0m \u001b[0;34m[\u001b[0m\u001b[0;34m]\u001b[0m\u001b[0;34m\u001b[0m\u001b[0;34m\u001b[0m\u001b[0m\n\u001b[1;32m     28\u001b[0m         \u001b[0mdescription1\u001b[0m \u001b[0;34m=\u001b[0m \u001b[0msoup2\u001b[0m\u001b[0;34m.\u001b[0m\u001b[0mfind\u001b[0m\u001b[0;34m(\u001b[0m\u001b[0;34m'div'\u001b[0m\u001b[0;34m,\u001b[0m \u001b[0mclass_\u001b[0m\u001b[0;34m=\u001b[0m\u001b[0;34m\"col-md-4 border-right col-xs-6\"\u001b[0m\u001b[0;34m)\u001b[0m\u001b[0;34m.\u001b[0m\u001b[0mul\u001b[0m\u001b[0;34m\u001b[0m\u001b[0;34m\u001b[0m\u001b[0m\n",
      "\u001b[0;31mAttributeError\u001b[0m: 'NoneType' object has no attribute 'li'"
     ]
    }
   ],
   "source": [
    "# This one is for pg\n",
    "# print(os.getcwd())\n",
    "for city in sorted(os.listdir('pg/')):\n",
    "#     print(city)\n",
    "    pg_scraper(city)\n",
    "#     file.close()"
   ]
  },
  {
   "cell_type": "code",
   "execution_count": 6,
   "metadata": {},
   "outputs": [
    {
     "name": "stdout",
     "output_type": "stream",
     "text": [
      "Pune.html done\n"
     ]
    }
   ],
   "source": [
    "pg_scraper('Pune.html')"
   ]
  },
  {
   "cell_type": "code",
   "execution_count": 7,
   "metadata": {
    "scrolled": false
   },
   "outputs": [
    {
     "name": "stdout",
     "output_type": "stream",
     "text": [
      "Bangalore.html done\n",
      "Delhi.html done\n",
      "Gurgaon.html done\n",
      "Noida.html done\n"
     ]
    }
   ],
   "source": [
    "for city in sorted(os.listdir('room/')):\n",
    "#     print(city)\n",
    "    room_scraper(city)"
   ]
  },
  {
   "cell_type": "code",
   "execution_count": 8,
   "metadata": {},
   "outputs": [
    {
     "data": {
      "text/plain": [
       "431"
      ]
     },
     "execution_count": 8,
     "metadata": {},
     "output_type": "execute_result"
    }
   ],
   "source": [
    "len(information)"
   ]
  },
  {
   "cell_type": "code",
   "execution_count": null,
   "metadata": {},
   "outputs": [],
   "source": [
    "# information = information[:370]"
   ]
  },
  {
   "cell_type": "code",
   "execution_count": 9,
   "metadata": {},
   "outputs": [],
   "source": [
    "df = pd.DataFrame(information)"
   ]
  },
  {
   "cell_type": "code",
   "execution_count": 10,
   "metadata": {},
   "outputs": [
    {
     "name": "stdout",
     "output_type": "stream",
     "text": [
      "      living_type            city                      name  \\\n",
      "0    pg/co-living  Ahmedabad.html  PG near Nirma University   \n",
      "1    pg/co-living  Ahmedabad.html             RSMAHMD656 PG   \n",
      "2    pg/co-living  Ahmedabad.html            RSMAHMD657 PG    \n",
      "3    pg/co-living  Bangalore.html       RSMBAN1014 Boys PG    \n",
      "4    pg/co-living  Bangalore.html       RSMBAN1025 Boys PG    \n",
      "..            ...             ...                       ...   \n",
      "426     bhk/rooms      Delhi.html                      2BHK   \n",
      "427     bhk/rooms    Gurgaon.html                      1RK    \n",
      "428     bhk/rooms      Noida.html                      3BHK   \n",
      "429     bhk/rooms      Noida.html                      2BHK   \n",
      "430     bhk/rooms      Noida.html                      3BHK   \n",
      "\n",
      "                                                  link  \\\n",
      "0    https://www.roomsoom.com/pg-near-Vaishnodevi-C...   \n",
      "1    https://www.roomsoom.com/pg-near-Thaltej-in-Ah...   \n",
      "2    https://www.roomsoom.com/pg-near-Memnagar-in-A...   \n",
      "3    https://www.roomsoom.com/pg-near-Kadubeesanaha...   \n",
      "4    https://www.roomsoom.com/pg-near-kadubeesanaha...   \n",
      "..                                                 ...   \n",
      "426  https://www.roomsoom.com/flat-for-rent-2BHK-in...   \n",
      "427  https://www.roomsoom.com/flat-for-rent-1RK--in...   \n",
      "428  https://www.roomsoom.com/flat-for-rent-3BHK-in...   \n",
      "429  https://www.roomsoom.com/flat-for-rent-2BHK-in...   \n",
      "430  https://www.roomsoom.com/flat-for-rent-3BHK-in...   \n",
      "\n",
      "                                           image_front   preferred_gender  \\\n",
      "0    https://www.roomsoom.com/public/image-2020/pro...              girls   \n",
      "1    https://www.roomsoom.com/public/image-2020/pro...               boys   \n",
      "2    https://www.roomsoom.com/public/image-2020/pro...               boys   \n",
      "3    https://www.roomsoom.com/public/image-2020/pro...               boys   \n",
      "4    https://www.roomsoom.com/public/image-2020/pro...               boys   \n",
      "..                                                 ...                ...   \n",
      "426  https://www.roomsoom.com/public/image-2020/pro...  girls,boys,family   \n",
      "427  https://www.roomsoom.com/public/image-2020/pro...                all   \n",
      "428  https://www.roomsoom.com/public/image-2020/pro...         girls,boys   \n",
      "429  https://www.roomsoom.com/public/image-2020/pro...  girls,boys,family   \n",
      "430  https://www.roomsoom.com/public/image-2020/pro...  girls,boys,family   \n",
      "\n",
      "                    primitive_location  \\\n",
      "0    in Vaishnodevi Circle , Ahmedabad   \n",
      "1                in Thaltej, Ahmedabad   \n",
      "2               in Memnagar, Ahmedabad   \n",
      "3       in Kadubeesanahalli, Bangalore   \n",
      "4       in kadubeesanahalli, Bangalore   \n",
      "..                                 ...   \n",
      "426            in Laxmi Nagar , Delhi    \n",
      "427             in sector 21, Gurgaon    \n",
      "428               in Sector 15, Noida    \n",
      "429               in Sector-19, Noida    \n",
      "430              in Sector -61, Noida    \n",
      "\n",
      "                                              location rent_per_month  \\\n",
      "0    Address : Abhilash Apartment  , Vaishnodevi Ci...        ₹ 7,000   \n",
      "1    Address : Kripalhomes  sg  highway , Thaltej ,...       ₹ 10,000   \n",
      "2    Address : Shakamba Tower-Block C  , Memnagar ,...        ₹ 9,500   \n",
      "3    Address : 210 Prakasha Pride Apartment 1st Flo...        ₹ 6,500   \n",
      "4    Address : #411 Prakasha Pride Apartment  , kad...        ₹ 6,500   \n",
      "..                                                 ...            ...   \n",
      "426           Address : F-193A , Laxmi Nagar  , Delhi        ₹ 18,000   \n",
      "427               Address : 935 , sector 21 , Gurgaon        ₹ 11,500   \n",
      "428               Address : A-165 , Sector 15 , Noida        ₹ 20,000   \n",
      "429                Address : B-49 , Sector-19 , Noida        ₹ 15,000   \n",
      "430              Address : b-228 , Sector -61 , Noida        ₹ 25,000   \n",
      "\n",
      "    security_deposit  total_beds_in_pg  \\\n",
      "0       1 Month Rent   Total Beds : 50   \n",
      "1       1 Month Rent     Total Beds :    \n",
      "2       1 Month Rent     Total Beds :    \n",
      "3      2 Months Rent   Total Beds : 50   \n",
      "4      2 Months Rent   Total Beds : 50   \n",
      "..               ...               ...   \n",
      "426         ₹ 18,000               NaN   \n",
      "427         ₹ 11,500               NaN   \n",
      "428         ₹ 20,000               NaN   \n",
      "429         ₹ 15,000               NaN   \n",
      "430         ₹ 25,000               NaN   \n",
      "\n",
      "                                          images_links  \\\n",
      "0    [https://www.roomsoom.com/public/image-2020/pr...   \n",
      "1    [https://www.roomsoom.com/public/image-2020/pr...   \n",
      "2    [https://www.roomsoom.com/public/image-2020/pr...   \n",
      "3    [https://www.roomsoom.com/public/image-2020/pr...   \n",
      "4    [https://www.roomsoom.com/public/image-2020/pr...   \n",
      "..                                                 ...   \n",
      "426  [https://www.roomsoom.com/public/image-2020/pr...   \n",
      "427  [https://www.roomsoom.com/public/image-2020/pr...   \n",
      "428  [https://www.roomsoom.com/public/image-2020/pr...   \n",
      "429  [https://www.roomsoom.com/public/image-2020/pr...   \n",
      "430  [https://www.roomsoom.com/public/image-2020/pr...   \n",
      "\n",
      "                                           description  \\\n",
      "0    [Double Sharing  7,999 / Bed,Triple Sharing  6...   \n",
      "1    [Single Sharing  22,000 / Bed,Triple Sharing  ...   \n",
      "2    [Single Sharing  18,000 / Bed,Double Sharing  ...   \n",
      "3    [Double Sharing  8,000 / Bed,Triple Sharing  6...   \n",
      "4    [Single Sharing  14,000 / Bed,Double Sharing  ...   \n",
      "..                                                 ...   \n",
      "426  [No. of Bed Rooms : 2, No. of Balconies : 2, N...   \n",
      "427  [No. of Bed Rooms : 1, No. of Balconies : , No...   \n",
      "428  [No. of Bed Rooms : 3, No. of Balconies : 1, N...   \n",
      "429  [No. of Bed Rooms : 2, No. of Balconies : 2, N...   \n",
      "430  [No. of Bed Rooms : 3, No. of Balconies : 1, N...   \n",
      "\n",
      "                                             amenities  \\\n",
      "0    [Bed, Mattress, Pillow & Cover, Bed Sheet, TV,...   \n",
      "1    [Bed, Mattress, Pillow & Cover, Bed Sheet, TV,...   \n",
      "2    [Bed, Mattress, Pillow & Cover, Bed Sheet, TV,...   \n",
      "3    [Bed, Mattress, Pillow & Cover, Bed Sheet, TV,...   \n",
      "4    [Bed, Mattress, Pillow & Cover, Bed Sheet, TV,...   \n",
      "..                                                 ...   \n",
      "426  [Bed, Mattress, Pillow & Cover, Bed Sheet, TV,...   \n",
      "427  [Bed, Mattress, Pillow & Cover, Bed Sheet, TV,...   \n",
      "428  [Bed, Mattress, Pillow & Cover, Bed Sheet, TV,...   \n",
      "429  [Bed, Mattress, Pillow & Cover, Bed Sheet, TV,...   \n",
      "430  [Bed, Mattress, Pillow & Cover, Bed Sheet, TV,...   \n",
      "\n",
      "                                               details  \n",
      "0    This fully furnished accommodation in Noida  i...  \n",
      "1    This Boys PG in Ahmedabad is an ideal place fo...  \n",
      "2    This Boys PG in Memnagar Gurukul, Ahmedabad  i...  \n",
      "3    This Boys PG in Kadubeesanahalli, Bangalore is...  \n",
      "4    If you have stepped out of your home for your ...  \n",
      "..                                                 ...  \n",
      "426   I Want to Rent My Property Which is Located i...  \n",
      "427  Located in Sector 21 Gurgaon, is a suitable pl...  \n",
      "428    I Want to Rent My Property Which is Located ...  \n",
      "429  I Want to Rent My Property Which is Located in...  \n",
      "430  I Want to Rent My Property Which is Located in...  \n",
      "\n",
      "[431 rows x 15 columns]\n"
     ]
    }
   ],
   "source": [
    "print(df)"
   ]
  },
  {
   "cell_type": "code",
   "execution_count": 11,
   "metadata": {},
   "outputs": [],
   "source": [
    "df.to_csv(\"Roomsoom_data.csv\", index=None)"
   ]
  },
  {
   "cell_type": "code",
   "execution_count": null,
   "metadata": {},
   "outputs": [],
   "source": []
  }
 ],
 "metadata": {
  "kernelspec": {
   "display_name": "Python 3",
   "language": "python",
   "name": "python3"
  },
  "language_info": {
   "codemirror_mode": {
    "name": "ipython",
    "version": 3
   },
   "file_extension": ".py",
   "mimetype": "text/x-python",
   "name": "python",
   "nbconvert_exporter": "python",
   "pygments_lexer": "ipython3",
   "version": "3.7.9"
  }
 },
 "nbformat": 4,
 "nbformat_minor": 4
}
