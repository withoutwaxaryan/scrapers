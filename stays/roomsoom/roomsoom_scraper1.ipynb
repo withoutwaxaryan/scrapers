{
 "cells": [
  {
   "cell_type": "code",
   "execution_count": 112,
   "metadata": {},
   "outputs": [],
   "source": [
    "from bs4 import BeautifulSoup\n",
    "import requests\n",
    "import pandas as pd"
   ]
  },
  {
   "cell_type": "markdown",
   "metadata": {},
   "source": [
    "Cities available for PG/Coliving : \n",
    "Noida\n",
    "Delhi\n",
    "Gurgaon\n",
    "Bangalore\n",
    "Indore\n",
    "Pune\n",
    "Chennai\n",
    "Mumbai\n",
    "Hyderabad\n",
    "Ahmedabad\n",
    "\n",
    "Cities available for BHK/Rooms :\n",
    "Noida\n",
    "Ghaziabad\n",
    "Gurgaon\n",
    "Delhi\n",
    "Bangalore\n",
    "Chennai\n",
    "Mumbai\n",
    "Indore\n",
    "Nagpur"
   ]
  },
  {
   "cell_type": "markdown",
   "metadata": {},
   "source": [
    " BHK/ROoms : https://www.roomsoom.com/flat/property-listing?lat=&lang=&city=Noida&type=flat\n",
    "    \n",
    "PG/Coliving : https://www.roomsoom.com/pg/property-listing?lat=&lang=&city=Noida&type=pg"
   ]
  },
  {
   "cell_type": "code",
   "execution_count": 113,
   "metadata": {},
   "outputs": [
    {
     "name": "stdout",
     "output_type": "stream",
     "text": [
      "<div class=\"property_data\">\n",
      "<figure class=\"property_pg\">\n",
      "<a href=\"https://www.roomsoom.com/flat-for-rent-3BHK-in-Sector-15-Noida-537\">\n",
      "<img src=\"https://www.roomsoom.com/public/image-2020/property-image/537/1.jpeg\"/>\n",
      "</a>\n",
      "<div class=\"rent_for1\">girls,boys</div>\n",
      "</figure>\n",
      "<div class=\"property_title\">\n",
      "<h3>3BHK</h3>\n",
      "<p>in Sector 15, Noida </p>\n",
      "</div>\n",
      "<div class=\"property_text\">\n",
      "<div class=\"row\">\n",
      "<div class=\"col-md-5 col-xs-6\">\n",
      "<ul class=\"property_text_text\">\n",
      "<li><p>Rent</p></li>\n",
      "<li><span class=\"pro_price\">₹ 20,000</span><span class=\"pro_bed\"> /Month</span></li>\n",
      "</ul>\n",
      "</div>\n",
      "<div class=\"col-md-5 col-xs-6\">\n",
      "<ul class=\"property_text_text\">\n",
      "<li><p>Security Deposit</p></li>\n",
      "<li><span class=\"pro_price\">₹ 20,000</span></li>\n",
      "</ul>\n",
      "</div>\n",
      "<div class=\"col-md-2 col-xs-12\">\n",
      "<a href=\"https://www.roomsoom.com/flat-for-rent-3BHK-in-Sector-15-Noida-537\">View Details</a>\n",
      "</div>\n",
      "</div>\n",
      "</div>\n",
      "<div class=\"pay_now_list\">\n",
      "<ul>\n",
      "<li><a href=\"https://www.roomsoom.com/online-booking-flat?property_id=537\">Book Now</a></li>\n",
      "<li><a href=\"https://www.roomsoom.com/schedule-visit?property_id=537&amp;property_title=3BHK\">Schedule Visit</a></li>\n",
      "</ul>\n",
      "</div>\n",
      "</div>\n"
     ]
    }
   ],
   "source": [
    "html_text = requests.get(\"https://www.roomsoom.com/flat/property-listing?lat=&lang=&city=Noida&type=flat\").text\n",
    "soup = BeautifulSoup(html_text, 'lxml')\n",
    "room = soup.find('div', class_ = \"property_data\")\n",
    "print(room)"
   ]
  },
  {
   "cell_type": "markdown",
   "metadata": {},
   "source": [
    "Book Now\n",
    "Schedule Visit\n",
    "\n",
    "Information present in each room: \n",
    "Image Link\n",
    "Rent for 1 --> class name --> Girls/ Boys/ Family\n",
    "BHK\n",
    "Area\n",
    "Rent/MOnth\n",
    "Security Deposit\n",
    "More Details --> Goes to new webpage\n",
    "\n",
    "\n"
   ]
  },
  {
   "cell_type": "code",
   "execution_count": 114,
   "metadata": {},
   "outputs": [
    {
     "name": "stdout",
     "output_type": "stream",
     "text": [
      "https://www.roomsoom.com/public/image-2020/property-image/537/1.jpeg\n",
      "girls,boys\n",
      "3BHK\n",
      "in Sector 15, Noida \n",
      "₹ 20,000\n",
      "₹ 20,000\n",
      "https://www.roomsoom.com/flat-for-rent-3BHK-in-Sector-15-Noida-537\n"
     ]
    }
   ],
   "source": [
    "information = []\n",
    "# for room in rooms:\n",
    "image_link = room.img['src']\n",
    "people_allowed = room.find('div', class_ = \"rent_for1\").text\n",
    "bhk = room.find('div', class_ = \"property_title\").h3.text\n",
    "primitive_location = room.find('div', class_ = \"property_title\").p.text\n",
    "money_info = room.find_all('span', attrs={\"class\" : \"pro_price\"})\n",
    "rent_per_month = money_info[0].text\n",
    "security_deposit = money_info[1].text\n",
    "more_details_link = room.find('div', class_ = \"col-md-2 col-xs-12\").a['href']\n",
    "print(image_link)\n",
    "print(people_allowed)\n",
    "print(bhk)\n",
    "print(primitive_location)\n",
    "print(rent_per_month)\n",
    "print(security_deposit)\n",
    "print(more_details_link)\n",
    "    "
   ]
  },
  {
   "cell_type": "code",
   "execution_count": 115,
   "metadata": {},
   "outputs": [
    {
     "name": "stdout",
     "output_type": "stream",
     "text": [
      "['https://www.roomsoom.com/public/image-2020/property-image/537/1.jpeg', 'https://www.roomsoom.com/public/image-2020/property-image/537/2.jpeg']\n"
     ]
    }
   ],
   "source": [
    "link = requests.get(more_details_link).text\n",
    "soup2 = BeautifulSoup(link, 'lxml')\n",
    "# room_info = soup2.find('div', class_ = \"property_data\")\n",
    "images1 = soup2.find('ul', class_ = \"slides\")\n",
    "images = []\n",
    "for image in images1.find_all('img'):\n",
    "    images.append(image.get('src'))\n",
    "print(images)\n"
   ]
  },
  {
   "cell_type": "code",
   "execution_count": 116,
   "metadata": {},
   "outputs": [
    {
     "name": "stdout",
     "output_type": "stream",
     "text": [
      "Address : A-165 , Sector 15 , Noida \n"
     ]
    }
   ],
   "source": [
    "location = soup2.find('ul', class_ = \"bed_details_list\").li.text.split('|')[0]\n",
    "print(location)"
   ]
  },
  {
   "cell_type": "code",
   "execution_count": 117,
   "metadata": {},
   "outputs": [
    {
     "name": "stdout",
     "output_type": "stream",
     "text": [
      "<ul>\n",
      "<li>No. of Bed Rooms : <span>3</span></li>\n",
      "<li>No. of Balconies : <span>1</span></li>\n",
      "<li>No. of Washrooms : <span>2</span></li>\n",
      "<li>Flooring Type: <span>Marble</span></li>\n",
      "<li>Flat Facing: <span>East</span></li>\n",
      "</ul>\n"
     ]
    }
   ],
   "source": [
    "description1 = soup2.find('div', class_=\"col-md-6 col-sm-12 col-xs-12 border-right\").ul\n",
    "print(description1)"
   ]
  },
  {
   "cell_type": "code",
   "execution_count": 118,
   "metadata": {},
   "outputs": [
    {
     "name": "stdout",
     "output_type": "stream",
     "text": [
      "['No. of Bed Rooms : 3', 'No. of Balconies : 1', 'No. of Washrooms : 2', 'Flooring Type: Marble', 'Flat Facing: East']\n"
     ]
    }
   ],
   "source": [
    "description = []\n",
    "for desc in description1.find_all('li'):\n",
    "    description.append(desc.text)\n",
    "print(description)"
   ]
  },
  {
   "cell_type": "code",
   "execution_count": 119,
   "metadata": {},
   "outputs": [
    {
     "name": "stdout",
     "output_type": "stream",
     "text": [
      "['No. of Bed Rooms : 3', 'No. of Balconies : 1', 'No. of Washrooms : 2', 'Flooring Type: Marble', 'Flat Facing: East', 'Furnishing Status : Furnished', 'Occupancy Status : Vacant', 'Bachelors Allowed: Yes', 'Flat Area: 2200 sq.ft', 'Car Parking: Yes']\n"
     ]
    }
   ],
   "source": [
    "description2 = soup2.find('div', class_=\"col-md-6 col-sm-12 col-xs-12\").ul\n",
    "for desc in description2.find_all('li'):\n",
    "    description.append(desc.text)\n",
    "print(description)"
   ]
  },
  {
   "cell_type": "code",
   "execution_count": 120,
   "metadata": {
    "scrolled": true
   },
   "outputs": [
    {
     "name": "stdout",
     "output_type": "stream",
     "text": [
      "['Bed', 'Mattress', 'Pillow & Cover', 'Bed Sheet', 'TV', 'Cable', 'AC', 'Curtain', 'Almirah', 'Table', 'Chair', 'Fan', 'Light', 'TV', 'Refrigerator', 'AC/Cooler', 'Sofa', 'Table', 'Chair', 'CCTV', 'Power Backup', 'Washing Machine', 'RO-Water', 'Utensils', 'Gas Cylinder', 'Stove', 'Cutlery', 'Kitchen Set', 'Bucket', 'Mug', 'Mirror', 'Hot Water', 'Park Nearby', 'Gym nearby']\n"
     ]
    }
   ],
   "source": [
    "amenities = soup2.find('div', attrs={\"id\" : \"home_amenities\"})\n",
    "amenities2 = amenities.find('div', class_ = \"tab-content\").text.replace('\\n\\n\\n', '\\n')\n",
    "# print(amenities2)\n",
    "amen = []\n",
    "amen = [y for y in (x.strip() for x in amenities2.splitlines()) if y]\n",
    "print(amen)"
   ]
  },
  {
   "cell_type": "code",
   "execution_count": 129,
   "metadata": {},
   "outputs": [
    {
     "name": "stdout",
     "output_type": "stream",
     "text": [
      "  I Want to Rent My Property Which is Located in Sector-15 Noida 3 Bedroom attached bathroom, Drawing Dining, Complete Woodwork, Marble flooring, 1Balcony, Modular Kitchen & Almirah, AC, FRIDGE, TV, BED, SOFA, MICROVABE, WASHING MACHINE , furnished Beautiful Location. Bachelors, Family Near Park Facing, Sector 15 Metro Station Mother dairy, Market, Hospital, School, Bus stop and Auto stand,\n"
     ]
    }
   ],
   "source": [
    "details = soup2.find('div', class_=\"rent_data\").text.replace('\\n', '')\n",
    "print(details)"
   ]
  },
  {
   "cell_type": "code",
   "execution_count": 121,
   "metadata": {},
   "outputs": [
    {
     "name": "stdout",
     "output_type": "stream",
     "text": [
      "{'image_front': 'https://www.roomsoom.com/public/image-2020/property-image/537/1.jpeg', 'people': 'girls,boys', 'bhk': '3BHK', 'primitive_location': 'in Sector 15, Noida ', 'rent_per_month': '₹ 20,000', 'security_deposit': '₹ 20,000', 'more_details_link': 'https://www.roomsoom.com/flat-for-rent-3BHK-in-Sector-15-Noida-537', 'images_links': ['https://www.roomsoom.com/public/image-2020/property-image/537/1.jpeg', 'https://www.roomsoom.com/public/image-2020/property-image/537/2.jpeg'], 'description': ['No. of Bed Rooms : 3', 'No. of Balconies : 1', 'No. of Washrooms : 2', 'Flooring Type: Marble', 'Flat Facing: East', 'Furnishing Status : Furnished', 'Occupancy Status : Vacant', 'Bachelors Allowed: Yes', 'Flat Area: 2200 sq.ft', 'Car Parking: Yes'], 'amenities': ['Bed', 'Mattress', 'Pillow & Cover', 'Bed Sheet', 'TV', 'Cable', 'AC', 'Curtain', 'Almirah', 'Table', 'Chair', 'Fan', 'Light', 'TV', 'Refrigerator', 'AC/Cooler', 'Sofa', 'Table', 'Chair', 'CCTV', 'Power Backup', 'Washing Machine', 'RO-Water', 'Utensils', 'Gas Cylinder', 'Stove', 'Cutlery', 'Kitchen Set', 'Bucket', 'Mug', 'Mirror', 'Hot Water', 'Park Nearby', 'Gym nearby']}\n"
     ]
    }
   ],
   "source": [
    "room_item = {\n",
    "    \"image_front\": image_link,\n",
    "    \"people\": people_allowed,\n",
    "    \"bhk\": bhk,\n",
    "    \"primitive_location\": primitive_location,\n",
    "    \"rent_per_month\": rent_per_month,\n",
    "    \"security_deposit\": security_deposit,\n",
    "    \"more_details_link\": more_details_link,\n",
    "    \"images_links\": images,\n",
    "    \"description\": description,\n",
    "    \"amenities\": amen\n",
    "}\n",
    "print(room_item)\n",
    "information.append(room_item)"
   ]
  },
  {
   "cell_type": "code",
   "execution_count": 122,
   "metadata": {},
   "outputs": [
    {
     "data": {
      "text/html": [
       "<div>\n",
       "<style scoped>\n",
       "    .dataframe tbody tr th:only-of-type {\n",
       "        vertical-align: middle;\n",
       "    }\n",
       "\n",
       "    .dataframe tbody tr th {\n",
       "        vertical-align: top;\n",
       "    }\n",
       "\n",
       "    .dataframe thead th {\n",
       "        text-align: right;\n",
       "    }\n",
       "</style>\n",
       "<table border=\"1\" class=\"dataframe\">\n",
       "  <thead>\n",
       "    <tr style=\"text-align: right;\">\n",
       "      <th></th>\n",
       "      <th>image_front</th>\n",
       "      <th>people</th>\n",
       "      <th>bhk</th>\n",
       "      <th>primitive_location</th>\n",
       "      <th>rent_per_month</th>\n",
       "      <th>security_deposit</th>\n",
       "      <th>more_details_link</th>\n",
       "      <th>images_links</th>\n",
       "      <th>description</th>\n",
       "      <th>amenities</th>\n",
       "    </tr>\n",
       "  </thead>\n",
       "  <tbody>\n",
       "    <tr>\n",
       "      <th>0</th>\n",
       "      <td>https://www.roomsoom.com/public/image-2020/pro...</td>\n",
       "      <td>girls,boys</td>\n",
       "      <td>3BHK</td>\n",
       "      <td>in Sector 15, Noida</td>\n",
       "      <td>₹ 20,000</td>\n",
       "      <td>₹ 20,000</td>\n",
       "      <td>https://www.roomsoom.com/flat-for-rent-3BHK-in...</td>\n",
       "      <td>[https://www.roomsoom.com/public/image-2020/pr...</td>\n",
       "      <td>[No. of Bed Rooms : 3, No. of Balconies : 1, N...</td>\n",
       "      <td>[Bed, Mattress, Pillow &amp; Cover, Bed Sheet, TV,...</td>\n",
       "    </tr>\n",
       "  </tbody>\n",
       "</table>\n",
       "</div>"
      ],
      "text/plain": [
       "                                         image_front      people   bhk  \\\n",
       "0  https://www.roomsoom.com/public/image-2020/pro...  girls,boys  3BHK   \n",
       "\n",
       "     primitive_location rent_per_month security_deposit  \\\n",
       "0  in Sector 15, Noida        ₹ 20,000         ₹ 20,000   \n",
       "\n",
       "                                   more_details_link  \\\n",
       "0  https://www.roomsoom.com/flat-for-rent-3BHK-in...   \n",
       "\n",
       "                                        images_links  \\\n",
       "0  [https://www.roomsoom.com/public/image-2020/pr...   \n",
       "\n",
       "                                         description  \\\n",
       "0  [No. of Bed Rooms : 3, No. of Balconies : 1, N...   \n",
       "\n",
       "                                           amenities  \n",
       "0  [Bed, Mattress, Pillow & Cover, Bed Sheet, TV,...  "
      ]
     },
     "execution_count": 122,
     "metadata": {},
     "output_type": "execute_result"
    }
   ],
   "source": [
    "pd.DataFrame(information)"
   ]
  },
  {
   "cell_type": "code",
   "execution_count": null,
   "metadata": {},
   "outputs": [],
   "source": []
  }
 ],
 "metadata": {
  "kernelspec": {
   "display_name": "Python 3",
   "language": "python",
   "name": "python3"
  },
  "language_info": {
   "codemirror_mode": {
    "name": "ipython",
    "version": 3
   },
   "file_extension": ".py",
   "mimetype": "text/x-python",
   "name": "python",
   "nbconvert_exporter": "python",
   "pygments_lexer": "ipython3",
   "version": "3.7.9"
  }
 },
 "nbformat": 4,
 "nbformat_minor": 4
}
