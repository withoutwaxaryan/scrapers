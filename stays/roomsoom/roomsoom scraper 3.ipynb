{
 "cells": [
  {
   "cell_type": "code",
   "execution_count": 10,
   "metadata": {},
   "outputs": [],
   "source": [
    "from bs4 import BeautifulSoup\n",
    "import requests\n",
    "import pandas as pd\n",
    "from selenium import webdriver\n",
    "from selenium.webdriver.common.keys import Keys\n",
    "import time"
   ]
  },
  {
   "cell_type": "markdown",
   "metadata": {},
   "source": [
    "Cities available for PG/Coliving : Noida Delhi Gurgaon Bangalore Indore Pune Chennai Mumbai Hyderabad Ahmedabad\n",
    "\n",
    "Cities available for BHK/Rooms : Noida Ghaziabad Gurgaon Delhi Bangalore Chennai Mumbai Indore Nagpur\n",
    "\n",
    "BHK/ROoms : https://www.roomsoom.com/flat/property-listing?lat=&lang=&city=Noida&type=flat\n",
    "\n",
    "PG/Coliving : https://www.roomsoom.com/pg/property-listing?lat=&lang=&city=Noida&type=pg"
   ]
  },
  {
   "cell_type": "code",
   "execution_count": 2,
   "metadata": {},
   "outputs": [],
   "source": [
    "# pg/co-living\n",
    "city_pg = ['Noida', 'Delhi', 'Gurgaon', 'Bangalore', 'Indore', 'Pune', 'Chennai', 'Mumbai', 'Hyderabad', 'Ahmedabad']\n",
    "\n",
    "# bhk/rooms\n",
    "city_room = ['Noida', 'Ghaziabad', 'Gurgaon', 'Delhi', 'Bangalore', 'Chennai', 'Mumbai', 'Indore', 'Nagpur']"
   ]
  },
  {
   "cell_type": "code",
   "execution_count": 11,
   "metadata": {},
   "outputs": [],
   "source": [
    "information = []"
   ]
  },
  {
   "cell_type": "markdown",
   "metadata": {},
   "source": [
    "Book Now Schedule Visit\n",
    "\n",
    "Information present in each room: Image Link Rent for 1 --> class name --> Girls/ Boys/ Family BHK Area Rent/MOnth Security Deposit More Details --> Goes to new webpage"
   ]
  },
  {
   "cell_type": "code",
   "execution_count": null,
   "metadata": {},
   "outputs": [],
   "source": [
    "def bhk(city):\n",
    "    html_text = requests.get(\"https://www.roomsoom.com/flat/property-listing?lat=&lang=&city=\" + city +\n",
    "                             \"&type=flat\").text\n",
    "    soup = BeautifulSoup(html_text, 'lxml')\n",
    "    rooms = soup.find_all('div', class_ = \"property_data\")\n",
    "    for room in rooms:\n",
    "        image_link = room.img['src']\n",
    "        people_allowed = room.find('div', class_ = \"rent_for1\").text\n",
    "        bhk = room.find('div', class_ = \"property_title\").h3.text\n",
    "        primitive_location = room.find('div', class_ = \"property_title\").p.text\n",
    "        money_info = room.find_all('span', attrs={\"class\" : \"pro_price\"})\n",
    "        rent_per_month = money_info[0].text\n",
    "        security_deposit = money_info[1].text\n",
    "        more_details_link = room.find('div', class_ = \"col-md-2 col-xs-12\").a['href']\n",
    "        link = requests.get(more_details_link).text\n",
    "        soup2 = BeautifulSoup(link, 'lxml')\n",
    "        images1 = soup2.find('ul', class_ = \"slides\")\n",
    "        images = []\n",
    "        for image in images1.find_all('img'):\n",
    "            images.append(image.get('src'))\n",
    "        location = soup2.find('ul', class_ = \"bed_details_list\").li.text.split('|')[0]\n",
    "        description1 = soup2.find('div', class_=\"col-md-6 col-sm-12 col-xs-12 border-right\").ul\n",
    "        description = []\n",
    "        for desc in description1.find_all('li'):\n",
    "            description.append(desc.text)\n",
    "        description2 = soup2.find('div', class_=\"col-md-6 col-sm-12 col-xs-12\").ul\n",
    "        for desc in description2.find_all('li'):\n",
    "            description.append(desc.text)\n",
    "        amenities = soup2.find('div', attrs={\"id\" : \"home_amenities\"})\n",
    "        amenities2 = amenities.find('div', class_ = \"tab-content\").text.replace('\\n\\n\\n', '\\n')\n",
    "        amen = []\n",
    "        amen = [y for y in (x.strip() for x in amenities2.splitlines()) if y]\n",
    "        details = soup2.find('div', class_=\"rent_data\").text.replace('\\n', '')\n",
    "        room_item = {\n",
    "            \"city\": city,\n",
    "            \"living_type\": \"bhk/rooms\",\n",
    "            \"image_front\": image_link,\n",
    "            \"people\": people_allowed,\n",
    "            \"bhk\": bhk,\n",
    "            \"primitive_location\": primitive_location,\n",
    "            \"rent_per_month\": rent_per_month,\n",
    "            \"security_deposit\": security_deposit,\n",
    "            \"more_details_link\": more_details_link,\n",
    "            \"images_links\": images,\n",
    "            \"description\": description,\n",
    "            \"amenities\": amen,\n",
    "            \"details\": details,\n",
    "        }\n",
    "        information.append(room_item)"
   ]
  },
  {
   "cell_type": "code",
   "execution_count": null,
   "metadata": {},
   "outputs": [],
   "source": [
    "def pg(city):\n",
    "    url = \"https://www.roomsoom.com/pg/property-listing?lat=&lang=&city=\" + city + \"&type=pg\"\n",
    "#     driver = webdriver.Chrome('/usr/bin/chromedriver') \n",
    "#     driver.get(url)\n",
    "#     html_text = driver.page_source\n",
    "#     html_text = requests.get(url).text\n",
    "    options = webdriver.ChromeOptions()\n",
    "    options.add_argument('--ignore-certificate-errors')\n",
    "    options.add_argument('--incognito')\n",
    "    options.add_argument('--headless')\n",
    "    driver = webdriver.Chrome(\"/usr/bin/chromedriver\", chrome_options=options)\n",
    "    driver.get(url)\n",
    "    html_text = driver.page_source\n",
    "    soup = BeautifulSoup(html_text, 'lxml')\n",
    "    rooms = soup.find_all('div', class_ = \"property_data\")\n",
    "    for room in rooms:\n",
    "        image_link = room.img['src']\n",
    "        people_allowed = room.find('div', class_ = \"rent_for1\").text\n",
    "        name = room.find('div', class_ = \"property_title\").h3.text\n",
    "        primitive_location = room.find('div', class_ = \"property_title\").p.text\n",
    "        money_info = room.find_all('span', attrs={\"class\" : \"pro_price\"})\n",
    "        rent_per_month = money_info[0].text\n",
    "        security_deposit = money_info[1].text\n",
    "        more_details_link = room.find('div', class_ = \"col-md-2 col-xs-12\").a['href']\n",
    "        link = requests.get(more_details_link).text\n",
    "        soup2 = BeautifulSoup(link, 'lxml')\n",
    "        images1 = soup2.find('ul', class_ = \"slides\")\n",
    "        images = []\n",
    "        for image in images1.find_all('img'):\n",
    "            images.append(image.get('src'))\n",
    "        location = soup2.find('ul', class_ = \"bed_details_list\").li.text.split('|')[0]\n",
    "        number_of_beds = soup2.find('ul', class_ = \"bed_details_list\").li.text.split('|')[-1]\n",
    "        description = []\n",
    "        description1 = soup2.find('div', class_=\"col-md-4 border-right col-xs-6\").ul\n",
    "        description2 = soup2.find('div', class_=\"col-md-4 col-xs-6\").ul\n",
    "        result = \"\\n\".join([\" \".join(elem) for elem in zip(description1.text.split(\"\\n\"), description2.text.split(\"\\n\"))])\n",
    "        result = result.replace('\\n', '\\n')\n",
    "        result = ','.join(result.splitlines())\n",
    "        result = result[2:-2]\n",
    "        description.append(result)\n",
    "        amenities = soup2.find('div', attrs={\"id\" : \"home_amenities\"})\n",
    "        amenities2 = amenities.find('div', class_ = \"tab-content\").text.replace('\\n\\n\\n', '\\n')\n",
    "        amen = []\n",
    "        amen = [y for y in (x.strip() for x in amenities2.splitlines()) if y]\n",
    "        details = soup2.find('div', class_=\"rent_data\").text.replace('\\n', '')\n",
    "        room_item = {\n",
    "            \"city\": city,\n",
    "            \"living_type\": \"pg/co-living\",\n",
    "            \"image_front\": image_link,\n",
    "            \"people\": people_allowed,\n",
    "            \"name\": name,\n",
    "            \"primitive_location\": primitive_location,\n",
    "            \"rent_per_month\": rent_per_month,\n",
    "            \"security_deposit\": security_deposit,\n",
    "            \"total_beds\": number_of_beds,\n",
    "            \"more_details_link\": more_details_link,\n",
    "            \"images_links\": images,\n",
    "            \"description\": description,\n",
    "            \"amenities\": amen,\n",
    "            \"details\": details,\n",
    "        }\n",
    "        information.append(room_item)"
   ]
  },
  {
   "cell_type": "code",
   "execution_count": null,
   "metadata": {},
   "outputs": [],
   "source": [
    "def pg(city):\n",
    "    html_text = driver.page_source\n",
    "    soup = BeautifulSoup(html_text, 'lxml')\n",
    "    rooms = soup.find_all('div', class_ = \"property_data\")\n",
    "    for room in rooms:\n",
    "        image_link = room.img['src']\n",
    "        people_allowed = room.find('div', class_ = \"rent_for1\").text\n",
    "        name = room.find('div', class_ = \"property_title\").h3.text\n",
    "        primitive_location = room.find('div', class_ = \"property_title\").p.text\n",
    "        money_info = room.find_all('span', attrs={\"class\" : \"pro_price\"})\n",
    "        rent_per_month = money_info[0].text\n",
    "        security_deposit = money_info[1].text\n",
    "        more_details_link = room.find('div', class_ = \"col-md-2 col-xs-12\").a['href']\n",
    "        link = requests.get(more_details_link).text\n",
    "        soup2 = BeautifulSoup(link, 'lxml')\n",
    "        images1 = soup2.find('ul', class_ = \"slides\")\n",
    "        images = []\n",
    "        for image in images1.find_all('img'):\n",
    "            images.append(image.get('src'))\n",
    "        location = soup2.find('ul', class_ = \"bed_details_list\").li.text.split('|')[0]\n",
    "        number_of_beds = soup2.find('ul', class_ = \"bed_details_list\").li.text.split('|')[-1]\n",
    "        description = []\n",
    "        description1 = soup2.find('div', class_=\"col-md-4 border-right col-xs-6\").ul\n",
    "        description2 = soup2.find('div', class_=\"col-md-4 col-xs-6\").ul\n",
    "        result = \"\\n\".join([\" \".join(elem) for elem in zip(description1.text.split(\"\\n\"), description2.text.split(\"\\n\"))])\n",
    "        result = result.replace('\\n', '\\n')\n",
    "        result = ','.join(result.splitlines())\n",
    "        result = result[2:-2]\n",
    "        description.append(result)\n",
    "        amenities = soup2.find('div', attrs={\"id\" : \"home_amenities\"})\n",
    "        amenities2 = amenities.find('div', class_ = \"tab-content\").text.replace('\\n\\n\\n', '\\n')\n",
    "        amen = []\n",
    "        amen = [y for y in (x.strip() for x in amenities2.splitlines()) if y]\n",
    "        details = soup2.find('div', class_=\"rent_data\").text.replace('\\n', '')\n",
    "        room_item = {\n",
    "            \"city\": city,\n",
    "            \"living_type\": \"pg/co-living\",\n",
    "            \"image_front\": image_link,\n",
    "            \"people\": people_allowed,\n",
    "            \"name\": name,\n",
    "            \"primitive_location\": primitive_location,\n",
    "            \"rent_per_month\": rent_per_month,\n",
    "            \"security_deposit\": security_deposit,\n",
    "            \"total_beds\": number_of_beds,\n",
    "            \"more_details_link\": more_details_link,\n",
    "            \"images_links\": images,\n",
    "            \"description\": description,\n",
    "            \"amenities\": amen,\n",
    "            \"details\": details,\n",
    "        }\n",
    "        information.append(room_item)"
   ]
  },
  {
   "cell_type": "code",
   "execution_count": null,
   "metadata": {},
   "outputs": [],
   "source": [
    "for city in city_room:\n",
    "    bhk(city)\n",
    "\n",
    "for city in city_pg:\n",
    "    pg(city)"
   ]
  },
  {
   "cell_type": "code",
   "execution_count": null,
   "metadata": {},
   "outputs": [],
   "source": [
    "len(information)"
   ]
  },
  {
   "cell_type": "code",
   "execution_count": null,
   "metadata": {},
   "outputs": [],
   "source": [
    "df = pd.DataFrame(information)"
   ]
  },
  {
   "cell_type": "code",
   "execution_count": null,
   "metadata": {},
   "outputs": [],
   "source": [
    "df.to_csv(\"Roomsoom_data.csv\", index=None)"
   ]
  },
  {
   "cell_type": "code",
   "execution_count": 9,
   "metadata": {},
   "outputs": [],
   "source": [
    "url = \"https://www.roomsoom.com/pg/property-listing?lat=&lang=&city=Noida&type=pg\"\n",
    "driver = webdriver.Chrome(\"/usr/bin/chromedriver\")\n",
    "driver.get(url)\n",
    "driver.maximize_window()\n",
    "for i in range(0, 3):\n",
    "    time.sleep(5)\n",
    "    i = i + 1\n",
    "    pg(Noida)\n",
    "    driver.execute_script(\"window.scrollTo(0,document.body.scrollHeight)\")\n",
    "#     driver.execute_script(\"window.scrollBy(0, 500)\", \"\")\n",
    "    time.sleep(5)\n",
    "#     driver.execute_script(\"window.scrollTo(0,document.body.scrollHeight)\")\n",
    "     "
   ]
  },
  {
   "cell_type": "code",
   "execution_count": null,
   "metadata": {},
   "outputs": [],
   "source": []
  }
 ],
 "metadata": {
  "kernelspec": {
   "display_name": "Python 3",
   "language": "python",
   "name": "python3"
  },
  "language_info": {
   "codemirror_mode": {
    "name": "ipython",
    "version": 3
   },
   "file_extension": ".py",
   "mimetype": "text/x-python",
   "name": "python",
   "nbconvert_exporter": "python",
   "pygments_lexer": "ipython3",
   "version": "3.7.3"
  }
 },
 "nbformat": 4,
 "nbformat_minor": 4
}
